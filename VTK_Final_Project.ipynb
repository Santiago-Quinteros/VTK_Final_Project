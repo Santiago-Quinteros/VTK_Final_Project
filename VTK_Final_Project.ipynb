{
 "cells": [
  {
   "cell_type": "code",
   "execution_count": 40,
   "id": "bdd2d32a",
   "metadata": {},
   "outputs": [],
   "source": [
    "#importer les librairies necessaires\n",
    "\n",
    "import numpy as np\n",
    "import vtk\n",
    "from vtk.util.numpy_support import vtk_to_numpy\n",
    "from matplotlib import pyplot as plt\n",
    "\n",
    "file_path = './Fero' #Dossier avec les images\n",
    "colors = vtk.vtkNamedColors() \n"
   ]
  },
  {
   "cell_type": "code",
   "execution_count": 41,
   "id": "f8edc2b5",
   "metadata": {},
   "outputs": [],
   "source": [
    "#Lire les images \n",
    "\n",
    "def loadData():\n",
    "    reader = vtk.vtkDICOMImageReader() \n",
    "    reader.SetDirectoryName(file_path)\n",
    "    reader.Update()\n",
    "   \n",
    "    return reader"
   ]
  },
  {
   "cell_type": "code",
   "execution_count": 42,
   "id": "97769881",
   "metadata": {},
   "outputs": [],
   "source": [
    "#Montrer l'information de l'image\n",
    "\n",
    "def information(reader, imageData):\n",
    "    print(\"Le largeur est :\", imageData.GetDimensions()[0]) \n",
    "    print(\"Le longeur est :\", imageData.GetDimensions()[1])\n",
    "    print(\"L'hauteur est :\", imageData.GetDimensions()[2])\n",
    "    print(\"La resolution est :\", reader.GetPixelSpacing()) #Distance minimal en unites pour separer X,Y,Z\n",
    "    print(\"La position du patient est :\", reader.GetImagePositionPatient())\n",
    "    print(\"La orientation du patient est :\",reader.GetImageOrientationPatient())\n",
    "    print(\"Le nombre de bits alloués pour chaque pixel dans le fichier est :\",reader.GetBitsAllocated())\n",
    "    print(\"Le nom du patient est :\",reader.GetPatientName())\n",
    "    \n",
    "    #////////////////////////////////////////////////////////////////////////////////////////////////////////////////////////\n",
    "    #Pour trouver le min et le max d'intensite je dois avoir acces aux valeurs du matrix de l'image\n",
    "    #car je n'ai pas trouve un commande pour le faire directement avec imageData\n",
    "    \n",
    "    #GetDataExtent est necessaire pour avoir un ordre adequat des pixels de l'image\n",
    "    \n",
    "    #////////////////////////////////////////////////////////////////////////////////////////////////////////////////////////\n",
    "    \n",
    "    # Load dimensions using `GetDataExtent`\n",
    "    _extent = reader.GetDataExtent()\n",
    "    ConstPixelDims = [_extent[1]-_extent[0]+1, _extent[3]-_extent[2]+1, _extent[5]-_extent[4]+1]\n",
    "\n",
    "    # Load spacing values\n",
    "    ConstPixelSpacing = reader.GetPixelSpacing()\n",
    "    # Get the 'vtkPointData' object from the 'vtkImageData' object\n",
    "    pointData = imageData.GetPointData()\n",
    "    # Ensure that only one array exists within the 'vtkPointData' object\n",
    "    assert (pointData.GetNumberOfArrays()==1)\n",
    "    # Get the `vtkArray` (or whatever derived type) which is needed for the `numpy_support.vtk_to_numpy` function\n",
    "    arrayData = pointData.GetArray(0)\n",
    "    # Convert the `vtkArray` to a NumPy array\n",
    "    ArrayDicom = vtk_to_numpy(arrayData)\n",
    "    # Reshape the NumPy array to 3D using 'ConstPixelDims' as a 'shape'\n",
    "    ArrayDicom = ArrayDicom.reshape(ConstPixelDims, order='F')\n",
    "    \n",
    "    #////////////////////////////////////////////////////////////////////////////////////////////////////////////////////////\n",
    "    \n",
    "    print(\"Valeur mimimal et maximal d'intensite des pixels en UH :\",np.min(ArrayDicom),np.max(ArrayDicom))\n",
    "    return ArrayDicom"
   ]
  },
  {
   "cell_type": "code",
   "execution_count": 49,
   "id": "50afbc5d",
   "metadata": {},
   "outputs": [],
   "source": [
    "def affichage(reader):\n",
    "    colors.SetColor(\"BkgColor\", [204, 255, 204, 255])\n",
    "\n",
    "    # Creer le renderer, la fenetre et l'interactor pour pouvoir avoire une visalisation de l'image et le manipuler\n",
    "    aRenderer = vtk.vtkRenderer()\n",
    "    renWin = vtk.vtkRenderWindow()\n",
    "    renWin.AddRenderer(aRenderer)\n",
    "\n",
    "    iren = vtk.vtkRenderWindowInteractor()\n",
    "    iren.SetRenderWindow(renWin)\n",
    "\n",
    "    # L'isosurface avec un contour value du 300 corresponds au vaisseaux sanguins et coeur du patient.\n",
    "    # Ce valeur etait trouve grace a l'utilisation de ITK-Snap.\n",
    "    # On a identifie le stent et les vaisseaux sanguins et on a lu leurs valeurs en UH\n",
    "    \n",
    "    visseauxExtractor = vtk.vtkMarchingCubes()\n",
    "    visseauxExtractor.SetInputConnection(reader.GetOutputPort())\n",
    "    visseauxExtractor.SetValue(0, 300)\n",
    "    \n",
    "    visseauxMapper = vtk.vtkPolyDataMapper()\n",
    "    visseauxMapper.SetInputConnection(visseauxExtractor.GetOutputPort())\n",
    "    visseauxMapper.ScalarVisibilityOff()\n",
    "    \n",
    "    visseaux = vtk.vtkActor()\n",
    "    visseaux.SetMapper(visseauxMapper)\n",
    "    visseaux.GetProperty().SetDiffuseColor(colors.GetColor3d(\"IndianRed\")) #changer le couleur pour ce des vaisseaux sanguins\n",
    "    visseaux.GetProperty().SetOpacity(0.5) #Changer l'opacite pour voir meilleure le stent\n",
    "    \n",
    "    # L'isosurface avec un contour value du 950 corresponds au stent\n",
    "    stentExtractor = vtk.vtkMarchingCubes()\n",
    "    stentExtractor.SetInputConnection(reader.GetOutputPort())\n",
    "    stentExtractor.SetValue(0, 950)\n",
    "\n",
    "    stentMapper = vtk.vtkPolyDataMapper()\n",
    "    stentMapper.SetInputConnection(stentExtractor.GetOutputPort())\n",
    "    stentMapper.ScalarVisibilityOff()\n",
    "\n",
    "    stent = vtk.vtkActor()\n",
    "    stent.SetMapper(stentMapper)\n",
    "    stent.GetProperty().SetDiffuseColor(colors.GetColor3d(\"Grey\")) #changer le couleur pour ce du stent\n",
    "    stent.GetProperty().SetOpacity(1) #Changer l'opacite pour voir meilleure le stent\n",
    "\n",
    "    # Creer le camera et une position initial qui permets regarder tout le modele\n",
    "    aCamera = vtk.vtkCamera()\n",
    "    aCamera.SetViewUp(0, 0, -1)\n",
    "    aCamera.SetPosition(0, -1, 0)\n",
    "    aCamera.SetFocalPoint(0, 0, 0)\n",
    "    aCamera.ComputeViewPlaneNormal()\n",
    "    aCamera.Azimuth(30.0)\n",
    "    aCamera.Elevation(30.0)\n",
    "\n",
    "    # Ajouter les acteurs au render et mettre en place la camera\n",
    "    \n",
    "    aRenderer.AddActor(visseaux)\n",
    "    aRenderer.AddActor(stent)\n",
    "    aRenderer.SetActiveCamera(aCamera)\n",
    "    aRenderer.ResetCamera()\n",
    "    aCamera.Dolly(1.5)\n",
    "\n",
    "    # Choisir un bonne couleur de fond qui permets regarder le modele et definir la taille de la fenetre.\n",
    "    aRenderer.SetBackground(colors.GetColor3d(\"BkgColor\"))\n",
    "    renWin.SetSize(640, 480)\n",
    "\n",
    "    aRenderer.ResetCameraClippingRange()\n",
    "\n",
    "    # Initialiser loop et le commencer.\n",
    "    iren.Initialize()\n",
    "    iren.Start()"
   ]
  },
  {
   "cell_type": "code",
   "execution_count": 50,
   "id": "4c51d302",
   "metadata": {},
   "outputs": [],
   "source": [
    "def main():\n",
    "    reader=loadData() #Lire les images \n",
    "    imageData = vtk.vtkImageData() #Creer une variable pour les imagenes\n",
    "    imageData.DeepCopy(reader.GetOutput()) #Obtenir matrix 3D avec les donnes de chaque pixel\n",
    "    ArrayDicom = information(reader, imageData) #Obtenir et imprimer l'information du modele\n",
    "    affichage(reader) "
   ]
  },
  {
   "cell_type": "code",
   "execution_count": 52,
   "id": "021fd697",
   "metadata": {
    "scrolled": false
   },
   "outputs": [
    {
     "name": "stdout",
     "output_type": "stream",
     "text": [
      "Le longeur est : 226\n",
      "Le largeur est : 128\n",
      "L'hauteur est : 154\n",
      "La resolution est : (0.859375, 0.859375, 1.0)\n",
      "La position du patient est : (-90.5390625, -257.5703125, -276.0)\n",
      "La orientation du patient est : (1.0, 0.0, 0.0, 0.0, 1.0, 0.0)\n",
      "Le nombre de bits alloués pour chaque pixel dans le fichier est : 16\n",
      "Le nom du patient est : FEROVIX \n",
      "Shape of the array: (226, 128, 154)\n",
      "Valeur mimimal et maximal d'intensite des pixels en UH : -1080 3622\n"
     ]
    }
   ],
   "source": [
    "main()"
   ]
  },
  {
   "cell_type": "markdown",
   "id": "98f68e92",
   "metadata": {},
   "source": [
    "# Analyse "
   ]
  },
  {
   "cell_type": "raw",
   "id": "e3a9f5c2",
   "metadata": {},
   "source": [
    "Dans le modèle on peut regarder en rouge le cœur et les vaisseaux sanguins et en gris le stent. On peut trouver le stent dans l'artère pulmonaire gauche. Ça devrait être noté qu'il y a plus de structures visibles que ces d'intérêt, c'est car il y a plusieurs structures avec le même UH (valeur de contour qui est utilise par MarchingCubes), par exemple tous les vaisseaux sanguins affiches ont le même valeur en UH, ou certains cartilages qui ont le même UH que le stent.\n"
   ]
  }
 ],
 "metadata": {
  "kernelspec": {
   "display_name": "Python 3 (ipykernel)",
   "language": "python",
   "name": "python3"
  },
  "language_info": {
   "codemirror_mode": {
    "name": "ipython",
    "version": 3
   },
   "file_extension": ".py",
   "mimetype": "text/x-python",
   "name": "python",
   "nbconvert_exporter": "python",
   "pygments_lexer": "ipython3",
   "version": "3.9.12"
  }
 },
 "nbformat": 4,
 "nbformat_minor": 5
}
